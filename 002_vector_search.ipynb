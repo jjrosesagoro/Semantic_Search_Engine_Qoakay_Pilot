{
 "cells": [
  {
   "cell_type": "markdown",
   "metadata": {
    "id": "bJLQoimyVyQ8"
   },
   "source": [
    "### Uncomment and run the following cells if you work on Google Colab :) Don't forget to change your runtime type to GPU!"
   ]
  },
  {
   "cell_type": "code",
   "execution_count": 1,
   "metadata": {
    "id": "rVV81xc3VyQ9"
   },
   "outputs": [],
   "source": [
    "# !git clone https://github.com/kstathou/vector_engine"
   ]
  },
  {
   "cell_type": "code",
   "execution_count": 2,
   "metadata": {
    "id": "C0lSFLw3VyRG"
   },
   "outputs": [],
   "source": [
    "# cd vector_engine"
   ]
  },
  {
   "cell_type": "code",
   "execution_count": 3,
   "metadata": {
    "id": "5sOhWL6UVyRQ"
   },
   "outputs": [],
   "source": [
    "# pip install -r requirements.txt"
   ]
  },
  {
   "cell_type": "markdown",
   "metadata": {
    "id": "vbnscDwgVyRW"
   },
   "source": [
    "### Let's begin!"
   ]
  },
  {
   "cell_type": "code",
   "execution_count": 4,
   "metadata": {
    "id": "v7ftrzzmVyRX"
   },
   "outputs": [],
   "source": [
    "%load_ext autoreload"
   ]
  },
  {
   "cell_type": "code",
   "execution_count": 5,
   "metadata": {
    "id": "fU2i4vlCVyRc"
   },
   "outputs": [
    {
     "name": "stderr",
     "output_type": "stream",
     "text": [
      "/home/jj/anaconda3/envs/SemanticS/lib/python3.7/site-packages/tqdm/auto.py:22: TqdmWarning: IProgress not found. Please update jupyter and ipywidgets. See https://ipywidgets.readthedocs.io/en/stable/user_install.html\n",
      "  from .autonotebook import tqdm as notebook_tqdm\n"
     ]
    }
   ],
   "source": [
    "%autoreload 2\n",
    "# Used to import data from local.\n",
    "import pandas as pd\n",
    "\n",
    "# Used to create the dense document vectors.\n",
    "import torch\n",
    "from sentence_transformers import SentenceTransformer\n",
    "\n",
    "# Used to create and store the Faiss index.\n",
    "import faiss\n",
    "import numpy as np\n",
    "import pickle\n",
    "from pathlib import Path\n",
    "\n",
    "# Used to do vector searches and display the results.\n",
    "from vector_engine.utils import vector_search, id2details"
   ]
  },
  {
   "cell_type": "markdown",
   "metadata": {
    "id": "Kz5YBwU5VyRi"
   },
   "source": [
    "Stored and processed data in s3"
   ]
  },
  {
   "cell_type": "code",
   "execution_count": 6,
   "metadata": {
    "id": "VEANywYAVyRi"
   },
   "outputs": [],
   "source": [
    "# Read a CSV in a table\n",
    "df = pd.read_csv('data/100_samples_data_normalised.csv', error_bad_lines=False)"
   ]
  },
  {
   "cell_type": "code",
   "execution_count": 7,
   "metadata": {
    "colab": {
     "base_uri": "https://localhost:8080/",
     "height": 143
    },
    "id": "HJXljSbYVyRn",
    "outputId": "80dbbfa2-7a12-431d-84e8-6492cbca002c"
   },
   "outputs": [
    {
     "data": {
      "text/html": [
       "<div>\n",
       "<style scoped>\n",
       "    .dataframe tbody tr th:only-of-type {\n",
       "        vertical-align: middle;\n",
       "    }\n",
       "\n",
       "    .dataframe tbody tr th {\n",
       "        vertical-align: top;\n",
       "    }\n",
       "\n",
       "    .dataframe thead th {\n",
       "        text-align: right;\n",
       "    }\n",
       "</style>\n",
       "<table border=\"1\" class=\"dataframe\">\n",
       "  <thead>\n",
       "    <tr style=\"text-align: right;\">\n",
       "      <th></th>\n",
       "      <th>paperId</th>\n",
       "      <th>url</th>\n",
       "      <th>title</th>\n",
       "      <th>abstract</th>\n",
       "      <th>year</th>\n",
       "      <th>referenceCount</th>\n",
       "      <th>citationCount</th>\n",
       "      <th>influentialCitationCount</th>\n",
       "      <th>isOpenAccess</th>\n",
       "      <th>fieldsOfStudy/0</th>\n",
       "      <th>...</th>\n",
       "      <th>authors/36/authorId</th>\n",
       "      <th>authors/36/name</th>\n",
       "      <th>authors/37/authorId</th>\n",
       "      <th>authors/37/name</th>\n",
       "      <th>authors/38/authorId</th>\n",
       "      <th>authors/38/name</th>\n",
       "      <th>authors/39/authorId</th>\n",
       "      <th>authors/39/name</th>\n",
       "      <th>fieldsOfStudy/2</th>\n",
       "      <th>fieldsOfStudy/3</th>\n",
       "    </tr>\n",
       "  </thead>\n",
       "  <tbody>\n",
       "    <tr>\n",
       "      <th>0</th>\n",
       "      <td>46200b99c40e8586c8a0f588488ab6414119fb28</td>\n",
       "      <td>https://www.semanticscholar.org/paper/46200b99...</td>\n",
       "      <td>TensorFlow: A system for large-scale machine l...</td>\n",
       "      <td>TensorFlow is a machine learning system that o...</td>\n",
       "      <td>2016</td>\n",
       "      <td>94</td>\n",
       "      <td>13969</td>\n",
       "      <td>1679</td>\n",
       "      <td>False</td>\n",
       "      <td>Computer Science</td>\n",
       "      <td>...</td>\n",
       "      <td>NaN</td>\n",
       "      <td>NaN</td>\n",
       "      <td>NaN</td>\n",
       "      <td>NaN</td>\n",
       "      <td>NaN</td>\n",
       "      <td>NaN</td>\n",
       "      <td>NaN</td>\n",
       "      <td>NaN</td>\n",
       "      <td>NaN</td>\n",
       "      <td>NaN</td>\n",
       "    </tr>\n",
       "    <tr>\n",
       "      <th>1</th>\n",
       "      <td>f9c602cc436a9ea2f9e7db48c77d924e09ce3c32</td>\n",
       "      <td>https://www.semanticscholar.org/paper/f9c602cc...</td>\n",
       "      <td>Fashion-MNIST: a Novel Image Dataset for Bench...</td>\n",
       "      <td>We present Fashion-MNIST, a new dataset compri...</td>\n",
       "      <td>2017</td>\n",
       "      <td>6</td>\n",
       "      <td>4588</td>\n",
       "      <td>1340</td>\n",
       "      <td>False</td>\n",
       "      <td>Computer Science</td>\n",
       "      <td>...</td>\n",
       "      <td>NaN</td>\n",
       "      <td>NaN</td>\n",
       "      <td>NaN</td>\n",
       "      <td>NaN</td>\n",
       "      <td>NaN</td>\n",
       "      <td>NaN</td>\n",
       "      <td>NaN</td>\n",
       "      <td>NaN</td>\n",
       "      <td>NaN</td>\n",
       "      <td>NaN</td>\n",
       "    </tr>\n",
       "    <tr>\n",
       "      <th>2</th>\n",
       "      <td>9c9d7247f8c51ec5a02b0d911d1d7b9e8160495d</td>\n",
       "      <td>https://www.semanticscholar.org/paper/9c9d7247...</td>\n",
       "      <td>TensorFlow: Large-Scale Machine Learning on He...</td>\n",
       "      <td>TensorFlow is an interface for expressing mach...</td>\n",
       "      <td>2016</td>\n",
       "      <td>55</td>\n",
       "      <td>9429</td>\n",
       "      <td>1008</td>\n",
       "      <td>False</td>\n",
       "      <td>Computer Science</td>\n",
       "      <td>...</td>\n",
       "      <td>145233583.0</td>\n",
       "      <td>M. Wattenberg</td>\n",
       "      <td>35078078.0</td>\n",
       "      <td>M. Wicke</td>\n",
       "      <td>2.117164e+09</td>\n",
       "      <td>Yuan Yu</td>\n",
       "      <td>2.152198e+09</td>\n",
       "      <td>Xiaoqiang Zheng</td>\n",
       "      <td>NaN</td>\n",
       "      <td>NaN</td>\n",
       "    </tr>\n",
       "  </tbody>\n",
       "</table>\n",
       "<p>3 rows × 93 columns</p>\n",
       "</div>"
      ],
      "text/plain": [
       "                                    paperId  \\\n",
       "0  46200b99c40e8586c8a0f588488ab6414119fb28   \n",
       "1  f9c602cc436a9ea2f9e7db48c77d924e09ce3c32   \n",
       "2  9c9d7247f8c51ec5a02b0d911d1d7b9e8160495d   \n",
       "\n",
       "                                                 url  \\\n",
       "0  https://www.semanticscholar.org/paper/46200b99...   \n",
       "1  https://www.semanticscholar.org/paper/f9c602cc...   \n",
       "2  https://www.semanticscholar.org/paper/9c9d7247...   \n",
       "\n",
       "                                               title  \\\n",
       "0  TensorFlow: A system for large-scale machine l...   \n",
       "1  Fashion-MNIST: a Novel Image Dataset for Bench...   \n",
       "2  TensorFlow: Large-Scale Machine Learning on He...   \n",
       "\n",
       "                                            abstract  year  referenceCount  \\\n",
       "0  TensorFlow is a machine learning system that o...  2016              94   \n",
       "1  We present Fashion-MNIST, a new dataset compri...  2017               6   \n",
       "2  TensorFlow is an interface for expressing mach...  2016              55   \n",
       "\n",
       "   citationCount  influentialCitationCount  isOpenAccess   fieldsOfStudy/0  \\\n",
       "0          13969                      1679         False  Computer Science   \n",
       "1           4588                      1340         False  Computer Science   \n",
       "2           9429                      1008         False  Computer Science   \n",
       "\n",
       "   ...  authors/36/authorId authors/36/name  authors/37/authorId  \\\n",
       "0  ...                  NaN             NaN                  NaN   \n",
       "1  ...                  NaN             NaN                  NaN   \n",
       "2  ...          145233583.0   M. Wattenberg           35078078.0   \n",
       "\n",
       "  authors/37/name  authors/38/authorId authors/38/name  authors/39/authorId  \\\n",
       "0             NaN                  NaN             NaN                  NaN   \n",
       "1             NaN                  NaN             NaN                  NaN   \n",
       "2        M. Wicke         2.117164e+09         Yuan Yu         2.152198e+09   \n",
       "\n",
       "   authors/39/name  fieldsOfStudy/2 fieldsOfStudy/3  \n",
       "0              NaN              NaN             NaN  \n",
       "1              NaN              NaN             NaN  \n",
       "2  Xiaoqiang Zheng              NaN             NaN  \n",
       "\n",
       "[3 rows x 93 columns]"
      ]
     },
     "execution_count": 7,
     "metadata": {},
     "output_type": "execute_result"
    }
   ],
   "source": [
    "df.head(3)"
   ]
  },
  {
   "cell_type": "code",
   "execution_count": 8,
   "metadata": {
    "colab": {
     "base_uri": "https://localhost:8080/"
    },
    "id": "MljadlGpVyRs",
    "outputId": "fe2aeb52-a5aa-4185-caaf-3bbd67da4b85"
   },
   "outputs": [
    {
     "name": "stdout",
     "output_type": "stream",
     "text": [
      "T'ikray Prototype: 77\n"
     ]
    }
   ],
   "source": [
    "print(f\"T'ikray Prototype: {df.paperId.unique().shape[0]}\")"
   ]
  },
  {
   "cell_type": "markdown",
   "metadata": {
    "id": "VyRG1wZLVyRw"
   },
   "source": [
    "The [Sentence Transformers library](https://github.com/UKPLab/sentence-transformers) offers pretrained transformers that produce SOTA sentence embeddings. Checkout this [spreadsheet](https://docs.google.com/spreadsheets/d/14QplCdTCDwEmTqrn1LH4yrbKvdogK4oQvYO1K1aPR5M/) with all the available models.\n",
    "\n",
    "In this tutorial, we will use the `distilbert-base-nli-stsb-mean-tokens` model which has the best performance on Semantic Textual Similarity tasks among the DistilBERT versions. Moreover, although it's slightly worse than BERT, it is quite faster thanks to having a smaller size.\n",
    "\n",
    "I use the same model in [Orion's semantic search engine](https://www.orion-search.org/)!"
   ]
  },
  {
   "cell_type": "code",
   "execution_count": 9,
   "metadata": {
    "colab": {
     "base_uri": "https://localhost:8080/"
    },
    "id": "PjF6CrwUVyRx",
    "outputId": "a49be57b-d2ad-46d3-aec9-62c01ffb55ac"
   },
   "outputs": [
    {
     "name": "stdout",
     "output_type": "stream",
     "text": [
      "cuda:0\n"
     ]
    }
   ],
   "source": [
    "# Instantiate the sentence-level DistilBERT\n",
    "model = SentenceTransformer('distilbert-base-nli-stsb-mean-tokens')\n",
    "# Check if GPU is available and use it\n",
    "if torch.cuda.is_available():\n",
    "    model = model.to(torch.device(\"cuda\"))\n",
    "print(model.device)"
   ]
  },
  {
   "cell_type": "code",
   "execution_count": 10,
   "metadata": {
    "colab": {
     "base_uri": "https://localhost:8080/",
     "height": 66,
     "referenced_widgets": [
      "a3207b1dba9b4a00b1ff35d9e1666b9e",
      "2695fd99278845baabae54015c34fcdc",
      "4cf7379a5fb74234863c8d6087fd874e",
      "499b0004f8b94f298fa6549f40cfdd47",
      "f747015d71364a72bfdc7fae052f1eb4",
      "9e6b8fb59cdf41e4ba2249707b534652",
      "2dd7c083419142abafa3a3ae0313b3b7",
      "c96682ee49574cf09a9484c380b88bcd"
     ]
    },
    "id": "Y_GS0_CWVyR1",
    "outputId": "08396147-4125-409f-fac6-693367366328"
   },
   "outputs": [
    {
     "name": "stderr",
     "output_type": "stream",
     "text": [
      "Batches: 100%|████████████████████████████████████| 3/3 [00:00<00:00,  5.46it/s]\n"
     ]
    }
   ],
   "source": [
    "# Convert abstracts to vectors\n",
    "embeddings = model.encode(df.abstract.to_list(), show_progress_bar=True)"
   ]
  },
  {
   "cell_type": "code",
   "execution_count": 11,
   "metadata": {
    "colab": {
     "base_uri": "https://localhost:8080/"
    },
    "id": "gE7w-RJbVyR6",
    "outputId": "c5b2e094-d807-41fb-d5cb-34c5f24ebcdd"
   },
   "outputs": [
    {
     "name": "stdout",
     "output_type": "stream",
     "text": [
      "Shape of the vectorised abstract: (768,)\n"
     ]
    }
   ],
   "source": [
    "print(f'Shape of the vectorised abstract: {embeddings[0].shape}')"
   ]
  },
  {
   "cell_type": "markdown",
   "metadata": {
    "id": "YGV4Je1EVyR_"
   },
   "source": [
    "## Vector similarity search with Faiss\n",
    "[Faiss](https://github.com/facebookresearch/faiss) is a library for efficient similarity search and clustering of dense vectors. It contains algorithms that search in sets of vectors of any size, even ones that do not fit in RAM. \n",
    "    \n",
    "Faiss is built around the `Index` object which contains, and sometimes preprocesses, the searchable vectors. Faiss has a large collection of [indexes](https://github.com/facebookresearch/faiss/wiki/Faiss-indexes). You can even create [composite indexes](https://github.com/facebookresearch/faiss/wiki/Faiss-indexes-(composite)). Faiss handles collections of vectors of a fixed dimensionality d, typically a few 10s to 100s.\n",
    "\n",
    "**Note**: Faiss uses only 32-bit floating point matrices. This means that you will have to change the data type of the input before building the index.\n",
    "\n",
    "To learn more about Faiss, you can read their paper on [arXiv](https://arxiv.org/abs/1702.08734).\n",
    "\n",
    "Here, we will the `IndexFlatL2` index:\n",
    "- It's a simple index that performs a brute-force L2 distance search\n",
    "- It scales linearly. It will work fine with our data but you might want to try [faster indexes](https://github.com/facebookresearch/faiss/wiki/Faster-search) if you work will millions of vectors.\n",
    "\n",
    "To create an index with the `misinformation` abstract vectors, we will:\n",
    "1. Change the data type of the abstract vectors to float32.\n",
    "2. Build an index and pass it the dimension of the vectors it will operate on.\n",
    "3. Pass the index to IndexIDMap, an object that enables us to provide a custom list of IDs for the indexed vectors.\n",
    "4. Add the abstract vectors and their ID mapping to the index. In our case, we will map vectors to their paper IDs from MAG."
   ]
  },
  {
   "cell_type": "code",
   "execution_count": 50,
   "metadata": {},
   "outputs": [],
   "source": [
    "#df.astype({'paperId': 'int32'}).dtypes\n",
    "#df['paperId'].astype(str).astype(int)\n",
    "#df['paperId'] = df.paperId.astype(int)\n",
    "#df['paperId'] = pd.to_numeric(df['paperId'])\n",
    "#df[\"paperId\"] = pd.to_numeric(df[\"paperId\"], errors='coerce')\n",
    "\n",
    "#s = pd.Series(df['paperId'])\n",
    "#print(s)\n",
    "#pd.to_numeric(s, errors='coerce')\n"
   ]
  },
  {
   "cell_type": "code",
   "execution_count": 45,
   "metadata": {},
   "outputs": [
    {
     "data": {
      "text/plain": [
       "0     46200b99c40e8586c8a0f588488ab6414119fb28\n",
       "1     f9c602cc436a9ea2f9e7db48c77d924e09ce3c32\n",
       "2     9c9d7247f8c51ec5a02b0d911d1d7b9e8160495d\n",
       "3     f9c990b1b5724e50e5632b94fdb7484ece8a6ce7\n",
       "4     0090023afc66cd2741568599057f4e82b566137c\n",
       "                        ...                   \n",
       "72    d7701e78e0bfc92b03a89582e80cfb751ac03f26\n",
       "73    218062f45c15f39bc8f4fb2c930ddf20b5809b11\n",
       "74    61306b52c2d292928f7cbb2f2ef5711d15a2566c\n",
       "75    62df84d6a4d26f95e4714796c2337c9848cc13b5\n",
       "76    b3de1062d8a462dfdc2938558258f8884abe9f4e\n",
       "Name: paperId, Length: 77, dtype: object"
      ]
     },
     "execution_count": 45,
     "metadata": {},
     "output_type": "execute_result"
    }
   ],
   "source": [
    "df.paperId"
   ]
  },
  {
   "cell_type": "code",
   "execution_count": 14,
   "metadata": {
    "colab": {
     "base_uri": "https://localhost:8080/"
    },
    "id": "8kkUDtwHVyR_",
    "outputId": "f0e17ffc-02d0-4948-e58b-61d48178b95d"
   },
   "outputs": [
    {
     "ename": "ValueError",
     "evalue": "did not recognize array type",
     "output_type": "error",
     "traceback": [
      "\u001b[0;31m---------------------------------------------------------------------------\u001b[0m",
      "\u001b[0;31mValueError\u001b[0m                                Traceback (most recent call last)",
      "\u001b[0;32m/tmp/ipykernel_38154/1156414183.py\u001b[0m in \u001b[0;36m<module>\u001b[0;34m\u001b[0m\n\u001b[1;32m      9\u001b[0m \u001b[0;34m\u001b[0m\u001b[0m\n\u001b[1;32m     10\u001b[0m \u001b[0;31m# Step 4: Add vectors and their IDs\u001b[0m\u001b[0;34m\u001b[0m\u001b[0;34m\u001b[0m\u001b[0;34m\u001b[0m\u001b[0m\n\u001b[0;32m---> 11\u001b[0;31m \u001b[0mindex\u001b[0m\u001b[0;34m.\u001b[0m\u001b[0madd_with_ids\u001b[0m\u001b[0;34m(\u001b[0m\u001b[0membeddings\u001b[0m\u001b[0;34m,\u001b[0m \u001b[0mdf\u001b[0m\u001b[0;34m.\u001b[0m\u001b[0mpaperId\u001b[0m\u001b[0;34m.\u001b[0m\u001b[0mvalues\u001b[0m\u001b[0;34m)\u001b[0m\u001b[0;34m\u001b[0m\u001b[0;34m\u001b[0m\u001b[0m\n\u001b[0m\u001b[1;32m     12\u001b[0m \u001b[0;34m\u001b[0m\u001b[0m\n\u001b[1;32m     13\u001b[0m \u001b[0mprint\u001b[0m\u001b[0;34m(\u001b[0m\u001b[0;34mf\"Number of vectors in the Faiss index: {index.ntotal}\"\u001b[0m\u001b[0;34m)\u001b[0m\u001b[0;34m\u001b[0m\u001b[0;34m\u001b[0m\u001b[0m\n",
      "\u001b[0;32m~/anaconda3/envs/SemanticS/lib/python3.7/site-packages/faiss/__init__.py\u001b[0m in \u001b[0;36mreplacement_add_with_ids\u001b[0;34m(self, x, ids)\u001b[0m\n\u001b[1;32m    129\u001b[0m         \u001b[0;32massert\u001b[0m \u001b[0md\u001b[0m \u001b[0;34m==\u001b[0m \u001b[0mself\u001b[0m\u001b[0;34m.\u001b[0m\u001b[0md\u001b[0m\u001b[0;34m\u001b[0m\u001b[0;34m\u001b[0m\u001b[0m\n\u001b[1;32m    130\u001b[0m         \u001b[0;32massert\u001b[0m \u001b[0mids\u001b[0m\u001b[0;34m.\u001b[0m\u001b[0mshape\u001b[0m \u001b[0;34m==\u001b[0m \u001b[0;34m(\u001b[0m\u001b[0mn\u001b[0m\u001b[0;34m,\u001b[0m \u001b[0;34m)\u001b[0m\u001b[0;34m,\u001b[0m \u001b[0;34m'not same nb of vectors as ids'\u001b[0m\u001b[0;34m\u001b[0m\u001b[0;34m\u001b[0m\u001b[0m\n\u001b[0;32m--> 131\u001b[0;31m         \u001b[0mself\u001b[0m\u001b[0;34m.\u001b[0m\u001b[0madd_with_ids_c\u001b[0m\u001b[0;34m(\u001b[0m\u001b[0mn\u001b[0m\u001b[0;34m,\u001b[0m \u001b[0mswig_ptr\u001b[0m\u001b[0;34m(\u001b[0m\u001b[0mx\u001b[0m\u001b[0;34m)\u001b[0m\u001b[0;34m,\u001b[0m \u001b[0mswig_ptr\u001b[0m\u001b[0;34m(\u001b[0m\u001b[0mids\u001b[0m\u001b[0;34m)\u001b[0m\u001b[0;34m)\u001b[0m\u001b[0;34m\u001b[0m\u001b[0;34m\u001b[0m\u001b[0m\n\u001b[0m\u001b[1;32m    132\u001b[0m \u001b[0;34m\u001b[0m\u001b[0m\n\u001b[1;32m    133\u001b[0m     \u001b[0;32mdef\u001b[0m \u001b[0mreplacement_assign\u001b[0m\u001b[0;34m(\u001b[0m\u001b[0mself\u001b[0m\u001b[0;34m,\u001b[0m \u001b[0mx\u001b[0m\u001b[0;34m,\u001b[0m \u001b[0mk\u001b[0m\u001b[0;34m)\u001b[0m\u001b[0;34m:\u001b[0m\u001b[0;34m\u001b[0m\u001b[0;34m\u001b[0m\u001b[0m\n",
      "\u001b[0;31mValueError\u001b[0m: did not recognize array type"
     ]
    }
   ],
   "source": [
    "# Step 1: Change data type\n",
    "embeddings = np.array([embedding for embedding in embeddings]).astype(\"float32\")\n",
    "\n",
    "# Step 2: Instantiate the index\n",
    "index = faiss.IndexFlatL2(embeddings.shape[1])\n",
    "\n",
    "# Step 3: Pass the index to IndexIDMap\n",
    "index = faiss.IndexIDMap(index)\n",
    "\n",
    "# Step 4: Add vectors and their IDs\n",
    "index.add_with_ids(embeddings, df.paperId.values)\n",
    "\n",
    "print(f\"Number of vectors in the Faiss index: {index.ntotal}\")"
   ]
  },
  {
   "cell_type": "markdown",
   "metadata": {
    "id": "yt1z-433VySE"
   },
   "source": [
    "### Searching the index\n",
    "The index we built will perform a k-nearest-neighbour search. We have to provide the number of neighbours to be returned. \n",
    "\n",
    "Let's query the index with an abstract from our dataset and retrieve the 10 most relevant documents. **The first one must be our query!**\n"
   ]
  },
  {
   "cell_type": "code",
   "execution_count": null,
   "metadata": {
    "colab": {
     "base_uri": "https://localhost:8080/",
     "height": 140
    },
    "id": "eEeJt7lYVySN",
    "outputId": "a20cb305-bda6-4f83-dbd2-720ceb068f7a"
   },
   "outputs": [],
   "source": [
    "# Paper abstract\n",
    "df.iloc[60, 3]"
   ]
  },
  {
   "cell_type": "code",
   "execution_count": null,
   "metadata": {
    "colab": {
     "base_uri": "https://localhost:8080/"
    },
    "id": "BSuRcH85VySQ",
    "outputId": "487a953b-dd26-43ea-a6d6-7f0890ce90c5"
   },
   "outputs": [],
   "source": [
    "# Retrieve the 10 nearest neighbours\n",
    "D, I = index.search(np.array([embeddings[40]]), k=10)\n",
    "print(f'L2 distance: {D.flatten().tolist()}\\n\\nSemantic Scholar paper IDs: {I.flatten().tolist()}')"
   ]
  },
  {
   "cell_type": "code",
   "execution_count": null,
   "metadata": {
    "colab": {
     "base_uri": "https://localhost:8080/"
    },
    "id": "SiO1pa4oVySU",
    "outputId": "0cacc20e-93b7-46d2-d81f-43d717b08eff"
   },
   "outputs": [],
   "source": [
    "# Fetch the paper titles based on their index\n",
    "id2details(df, I, 'title')"
   ]
  },
  {
   "cell_type": "code",
   "execution_count": null,
   "metadata": {
    "colab": {
     "base_uri": "https://localhost:8080/"
    },
    "id": "p29pEtGrWUMV",
    "outputId": "0393bb3d-d20a-456f-c5a5-ef9c08f14dd6",
    "scrolled": true
   },
   "outputs": [],
   "source": [
    "# Fetch the paper abstracts based on their index\n",
    "id2details(df, I, 'abstract')"
   ]
  },
  {
   "cell_type": "markdown",
   "metadata": {
    "id": "gFKvRb4QY-DL"
   },
   "source": [
    "\n",
    "## Putting all together\n",
    "\n",
    "So far, we've built a Faiss index using the misinformation abstract vectors we encoded with a sentence-DistilBERT model. That's helpful but in a real case scenario, we would have to work with unseen data. To query the index with an unseen query and retrieve its most relevant documents, we would have to do the following:\n",
    "\n",
    "1. Encode the query with the same sentence-DistilBERT model we used for the rest of the abstract vectors.\n",
    "2. Change its data type to float32.\n",
    "3. Search the index with the encoded query.\n",
    "\n",
    "Here, we will use the introduction of an article published on [HKS Misinformation Review](https://misinforeview.hks.harvard.edu/article/can-whatsapp-benefit-from-debunked-fact-checked-stories-to-reduce-misinformation/).\n"
   ]
  },
  {
   "cell_type": "code",
   "execution_count": null,
   "metadata": {
    "id": "iDhftkrhX99T"
   },
   "outputs": [],
   "source": [
    "user_query = \"\"\"\n",
    "WhatsApp was alleged to have been widely used to spread misinformation and propaganda \n",
    "during the 2018 elections in Brazil and the 2019 elections in India. Due to the \n",
    "private encrypted nature of the messages on WhatsApp, it is hard to track the dissemination \n",
    "of misinformation at scale. In this work, using public WhatsApp data from Brazil and India, we \n",
    "observe that misinformation has been largely shared on WhatsApp public groups even after they \n",
    "were already fact-checked by popular fact-checking agencies. This represents a significant portion \n",
    "of misinformation spread in both Brazil and India in the groups analyzed. We posit that such \n",
    "misinformation content could be prevented if WhatsApp had a means to flag already fact-checked \n",
    "content. To this end, we propose an architecture that could be implemented by WhatsApp to counter \n",
    "such misinformation. Our proposal respects the current end-to-end encryption architecture on WhatsApp, \n",
    "thus protecting users’ privacy while providing an approach to detect the misinformation that benefits \n",
    "from fact-checking efforts.\n",
    "\"\"\""
   ]
  },
  {
   "cell_type": "code",
   "execution_count": null,
   "metadata": {
    "colab": {
     "base_uri": "https://localhost:8080/"
    },
    "id": "6AFhbGnWZpWN",
    "outputId": "ad8c5d82-11cf-48d8-f298-2581da808a6a",
    "scrolled": false
   },
   "outputs": [],
   "source": [
    "# For convenience, I've wrapped all steps in the vector_search function.\n",
    "# It takes four arguments: \n",
    "# A query, the sentence-level transformer, the Faiss index and the number of requested results\n",
    "D, I = vector_search([user_query], model, index, num_results=10)\n",
    "print(f'L2 distance: {D.flatten().tolist()}\\n\\nMAG paper IDs: {I.flatten().tolist()}')"
   ]
  },
  {
   "cell_type": "code",
   "execution_count": null,
   "metadata": {
    "colab": {
     "base_uri": "https://localhost:8080/"
    },
    "id": "tbanjBhBZtWZ",
    "outputId": "855cc8c3-96db-4bfc-bbde-433d5f6b73e6"
   },
   "outputs": [],
   "source": [
    "# Fetching the paper titles based on their index\n",
    "id2details(df, I, 'original_title')"
   ]
  },
  {
   "cell_type": "code",
   "execution_count": null,
   "metadata": {
    "colab": {
     "base_uri": "https://localhost:8080/"
    },
    "id": "rbxFKF-DZxg0",
    "outputId": "d78cdc03-41f6-469d-bf67-8f32001a7415"
   },
   "outputs": [],
   "source": [
    "# Define project base directory\n",
    "# Change the index from 1 to 0 if you run this on Google Colab\n",
    "project_dir = Path('notebooks').resolve().parents[1]\n",
    "print(project_dir)\n",
    "\n",
    "# Serialise index and store it as a pickle\n",
    "with open(f\"{project_dir}/vector_engine-master/models/faiss_index.pickle\", \"wb\") as h:\n",
    "    pickle.dump(faiss.serialize_index(index), h)"
   ]
  },
  {
   "cell_type": "code",
   "execution_count": null,
   "metadata": {
    "id": "AtSC6oDDjtMA"
   },
   "outputs": [],
   "source": []
  }
 ],
 "metadata": {
  "accelerator": "GPU",
  "colab": {
   "collapsed_sections": [],
   "provenance": []
  },
  "kernelspec": {
   "display_name": "Python 3 (ipykernel)",
   "language": "python",
   "name": "python3"
  },
  "language_info": {
   "codemirror_mode": {
    "name": "ipython",
    "version": 3
   },
   "file_extension": ".py",
   "mimetype": "text/x-python",
   "name": "python",
   "nbconvert_exporter": "python",
   "pygments_lexer": "ipython3",
   "version": "3.7.10"
  },
  "widgets": {
   "application/vnd.jupyter.widget-state+json": {
    "2695fd99278845baabae54015c34fcdc": {
     "model_module": "@jupyter-widgets/base",
     "model_module_version": "1.2.0",
     "model_name": "LayoutModel",
     "state": {
      "_model_module": "@jupyter-widgets/base",
      "_model_module_version": "1.2.0",
      "_model_name": "LayoutModel",
      "_view_count": null,
      "_view_module": "@jupyter-widgets/base",
      "_view_module_version": "1.2.0",
      "_view_name": "LayoutView",
      "align_content": null,
      "align_items": null,
      "align_self": null,
      "border": null,
      "bottom": null,
      "display": null,
      "flex": null,
      "flex_flow": null,
      "grid_area": null,
      "grid_auto_columns": null,
      "grid_auto_flow": null,
      "grid_auto_rows": null,
      "grid_column": null,
      "grid_gap": null,
      "grid_row": null,
      "grid_template_areas": null,
      "grid_template_columns": null,
      "grid_template_rows": null,
      "height": null,
      "justify_content": null,
      "justify_items": null,
      "left": null,
      "margin": null,
      "max_height": null,
      "max_width": null,
      "min_height": null,
      "min_width": null,
      "object_fit": null,
      "object_position": null,
      "order": null,
      "overflow": null,
      "overflow_x": null,
      "overflow_y": null,
      "padding": null,
      "right": null,
      "top": null,
      "visibility": null,
      "width": null
     }
    },
    "2dd7c083419142abafa3a3ae0313b3b7": {
     "model_module": "@jupyter-widgets/controls",
     "model_module_version": "1.5.0",
     "model_name": "DescriptionStyleModel",
     "state": {
      "_model_module": "@jupyter-widgets/controls",
      "_model_module_version": "1.5.0",
      "_model_name": "DescriptionStyleModel",
      "_view_count": null,
      "_view_module": "@jupyter-widgets/base",
      "_view_module_version": "1.2.0",
      "_view_name": "StyleView",
      "description_width": ""
     }
    },
    "499b0004f8b94f298fa6549f40cfdd47": {
     "model_module": "@jupyter-widgets/controls",
     "model_module_version": "1.5.0",
     "model_name": "HTMLModel",
     "state": {
      "_dom_classes": [],
      "_model_module": "@jupyter-widgets/controls",
      "_model_module_version": "1.5.0",
      "_model_name": "HTMLModel",
      "_view_count": null,
      "_view_module": "@jupyter-widgets/controls",
      "_view_module_version": "1.5.0",
      "_view_name": "HTMLView",
      "description": "",
      "description_tooltip": null,
      "layout": "IPY_MODEL_c96682ee49574cf09a9484c380b88bcd",
      "placeholder": "​",
      "style": "IPY_MODEL_2dd7c083419142abafa3a3ae0313b3b7",
      "value": " 264/264 [02:12&lt;00:00,  1.99it/s]"
     }
    },
    "4cf7379a5fb74234863c8d6087fd874e": {
     "model_module": "@jupyter-widgets/controls",
     "model_module_version": "1.5.0",
     "model_name": "FloatProgressModel",
     "state": {
      "_dom_classes": [],
      "_model_module": "@jupyter-widgets/controls",
      "_model_module_version": "1.5.0",
      "_model_name": "FloatProgressModel",
      "_view_count": null,
      "_view_module": "@jupyter-widgets/controls",
      "_view_module_version": "1.5.0",
      "_view_name": "ProgressView",
      "bar_style": "success",
      "description": "Batches: 100%",
      "description_tooltip": null,
      "layout": "IPY_MODEL_9e6b8fb59cdf41e4ba2249707b534652",
      "max": 264,
      "min": 0,
      "orientation": "horizontal",
      "style": "IPY_MODEL_f747015d71364a72bfdc7fae052f1eb4",
      "value": 264
     }
    },
    "9e6b8fb59cdf41e4ba2249707b534652": {
     "model_module": "@jupyter-widgets/base",
     "model_module_version": "1.2.0",
     "model_name": "LayoutModel",
     "state": {
      "_model_module": "@jupyter-widgets/base",
      "_model_module_version": "1.2.0",
      "_model_name": "LayoutModel",
      "_view_count": null,
      "_view_module": "@jupyter-widgets/base",
      "_view_module_version": "1.2.0",
      "_view_name": "LayoutView",
      "align_content": null,
      "align_items": null,
      "align_self": null,
      "border": null,
      "bottom": null,
      "display": null,
      "flex": null,
      "flex_flow": null,
      "grid_area": null,
      "grid_auto_columns": null,
      "grid_auto_flow": null,
      "grid_auto_rows": null,
      "grid_column": null,
      "grid_gap": null,
      "grid_row": null,
      "grid_template_areas": null,
      "grid_template_columns": null,
      "grid_template_rows": null,
      "height": null,
      "justify_content": null,
      "justify_items": null,
      "left": null,
      "margin": null,
      "max_height": null,
      "max_width": null,
      "min_height": null,
      "min_width": null,
      "object_fit": null,
      "object_position": null,
      "order": null,
      "overflow": null,
      "overflow_x": null,
      "overflow_y": null,
      "padding": null,
      "right": null,
      "top": null,
      "visibility": null,
      "width": null
     }
    },
    "a3207b1dba9b4a00b1ff35d9e1666b9e": {
     "model_module": "@jupyter-widgets/controls",
     "model_module_version": "1.5.0",
     "model_name": "HBoxModel",
     "state": {
      "_dom_classes": [],
      "_model_module": "@jupyter-widgets/controls",
      "_model_module_version": "1.5.0",
      "_model_name": "HBoxModel",
      "_view_count": null,
      "_view_module": "@jupyter-widgets/controls",
      "_view_module_version": "1.5.0",
      "_view_name": "HBoxView",
      "box_style": "",
      "children": [
       "IPY_MODEL_4cf7379a5fb74234863c8d6087fd874e",
       "IPY_MODEL_499b0004f8b94f298fa6549f40cfdd47"
      ],
      "layout": "IPY_MODEL_2695fd99278845baabae54015c34fcdc"
     }
    },
    "c96682ee49574cf09a9484c380b88bcd": {
     "model_module": "@jupyter-widgets/base",
     "model_module_version": "1.2.0",
     "model_name": "LayoutModel",
     "state": {
      "_model_module": "@jupyter-widgets/base",
      "_model_module_version": "1.2.0",
      "_model_name": "LayoutModel",
      "_view_count": null,
      "_view_module": "@jupyter-widgets/base",
      "_view_module_version": "1.2.0",
      "_view_name": "LayoutView",
      "align_content": null,
      "align_items": null,
      "align_self": null,
      "border": null,
      "bottom": null,
      "display": null,
      "flex": null,
      "flex_flow": null,
      "grid_area": null,
      "grid_auto_columns": null,
      "grid_auto_flow": null,
      "grid_auto_rows": null,
      "grid_column": null,
      "grid_gap": null,
      "grid_row": null,
      "grid_template_areas": null,
      "grid_template_columns": null,
      "grid_template_rows": null,
      "height": null,
      "justify_content": null,
      "justify_items": null,
      "left": null,
      "margin": null,
      "max_height": null,
      "max_width": null,
      "min_height": null,
      "min_width": null,
      "object_fit": null,
      "object_position": null,
      "order": null,
      "overflow": null,
      "overflow_x": null,
      "overflow_y": null,
      "padding": null,
      "right": null,
      "top": null,
      "visibility": null,
      "width": null
     }
    },
    "f747015d71364a72bfdc7fae052f1eb4": {
     "model_module": "@jupyter-widgets/controls",
     "model_module_version": "1.5.0",
     "model_name": "ProgressStyleModel",
     "state": {
      "_model_module": "@jupyter-widgets/controls",
      "_model_module_version": "1.5.0",
      "_model_name": "ProgressStyleModel",
      "_view_count": null,
      "_view_module": "@jupyter-widgets/base",
      "_view_module_version": "1.2.0",
      "_view_name": "StyleView",
      "bar_color": null,
      "description_width": "initial"
     }
    }
   }
  }
 },
 "nbformat": 4,
 "nbformat_minor": 1
}
